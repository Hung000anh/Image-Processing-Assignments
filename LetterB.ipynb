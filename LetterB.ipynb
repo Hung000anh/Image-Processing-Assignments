{
 "cells": [
  {
   "cell_type": "code",
   "execution_count": 136,
   "metadata": {},
   "outputs": [],
   "source": [
    "import numpy as np\n",
    "import cv2\n",
    "\n",
    "# Tạo ảnh trống màu đen\n",
    "height, width = 300, 250  # Kích thước ảnh (chiều cao và chiều rộng)\n",
    "image = np.zeros((height, width, 3), dtype=np.uint8)  # Ảnh nền đen\n"
   ]
  },
  {
   "cell_type": "markdown",
   "metadata": {},
   "source": [
    "Ban đầu vẽ chữ I"
   ]
  },
  {
   "cell_type": "code",
   "execution_count": null,
   "metadata": {},
   "outputs": [],
   "source": [
    "cv2.rectangle(image, (50, 250), (70,30), (255, 255, 255), -1)"
   ]
  },
  {
   "cell_type": "markdown",
   "metadata": {},
   "source": [
    "Thêm 3 dấu gạch để thành chữ E"
   ]
  },
  {
   "cell_type": "code",
   "execution_count": null,
   "metadata": {},
   "outputs": [],
   "source": [
    "cv2.rectangle(image, (150, 70), (70,30), (255, 255, 255), -1)\n",
    "\n",
    "cv2.rectangle(image, (150, 160), (70,110), (255, 255, 255), -1)\n",
    "\n",
    "cv2.rectangle(image, (150, 250), (70,200), (255, 255, 255), -1)"
   ]
  },
  {
   "cell_type": "markdown",
   "metadata": {},
   "source": [
    "Sau đó thêm nét dấu 2 chấm để tạo thành chữ B"
   ]
  },
  {
   "cell_type": "code",
   "execution_count": null,
   "metadata": {},
   "outputs": [],
   "source": [
    "cv2.rectangle(image, (180, 110), (150,70), (255, 255, 255), -1)\n",
    "\n",
    "cv2.rectangle(image, (180, 200), (150,160), (255, 255, 255), -1)"
   ]
  },
  {
   "cell_type": "markdown",
   "metadata": {},
   "source": [
    "Hiển thị ảnh kết quả"
   ]
  },
  {
   "cell_type": "code",
   "execution_count": null,
   "metadata": {},
   "outputs": [],
   "source": [
    "\n",
    "cv2.imshow(\"Letter B\", image)\n",
    "cv2.waitKey(0)\n",
    "cv2.destroyAllWindows()"
   ]
  }
 ],
 "metadata": {
  "kernelspec": {
   "display_name": "Python 3",
   "language": "python",
   "name": "python3"
  },
  "language_info": {
   "codemirror_mode": {
    "name": "ipython",
    "version": 3
   },
   "file_extension": ".py",
   "mimetype": "text/x-python",
   "name": "python",
   "nbconvert_exporter": "python",
   "pygments_lexer": "ipython3",
   "version": "3.12.0"
  }
 },
 "nbformat": 4,
 "nbformat_minor": 2
}
