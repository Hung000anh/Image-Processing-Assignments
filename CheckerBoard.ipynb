{
 "cells": [
  {
   "cell_type": "markdown",
   "metadata": {},
   "source": [
    "Thư viện sử dụng"
   ]
  },
  {
   "cell_type": "code",
   "execution_count": 2,
   "metadata": {},
   "outputs": [],
   "source": [
    "import numpy as np\n",
    "import cv2"
   ]
  },
  {
   "cell_type": "markdown",
   "metadata": {},
   "source": [
    "Khởi tạo"
   ]
  },
  {
   "cell_type": "code",
   "execution_count": 8,
   "metadata": {},
   "outputs": [],
   "source": [
    "# Khởi tạo kích thước của bàn cờ\n",
    "#Một bàn cờ sẽ có chiều ngang là 8 \n",
    "so_Luong_O_chieu_Ngang = 8 \n",
    "#Một bàn cờ sẽ có chiều rộng là 8 ô\n",
    "so_Luong_O_chieu_Rong = 8 \n",
    "#Kích thước mỗi ô vuông sẽ là 50px\n",
    "kich_Thuoc_Moi_O_Vuong = 50"
   ]
  },
  {
   "cell_type": "markdown",
   "metadata": {},
   "source": [
    "Tạo Bảng"
   ]
  },
  {
   "cell_type": "code",
   "execution_count": 9,
   "metadata": {},
   "outputs": [],
   "source": [
    "#Tạo bảng với np.zeros\n",
    "board_img = np.zeros((so_Luong_O_chieu_Ngang * kich_Thuoc_Moi_O_Vuong, \n",
    "                      so_Luong_O_chieu_Rong * kich_Thuoc_Moi_O_Vuong\n",
    "                      ),\n",
    "                      dtype=np.uint8\n",
    "                      )"
   ]
  },
  {
   "cell_type": "markdown",
   "metadata": {},
   "source": [
    "Đổ màu"
   ]
  },
  {
   "cell_type": "code",
   "execution_count": 11,
   "metadata": {},
   "outputs": [],
   "source": [
    "# Đổ màu bàn cờ\n",
    "for row in range(so_Luong_O_chieu_Ngang):\n",
    "    for col in range(so_Luong_O_chieu_Rong):\n",
    "        # Kiểm tra xem ô vuông này có phải màu trắng hay không\n",
    "        if (row + col) % 2 == 0:\n",
    "            color = (0, 0, 0)  # Đen\n",
    "        else:\n",
    "            color = (255, 255, 255)  # Trắng\n",
    "        # Tô màu ô vuông\n",
    "        cv2.rectangle(board_img, \n",
    "                      (col * kich_Thuoc_Moi_O_Vuong, row * kich_Thuoc_Moi_O_Vuong), \n",
    "                      ((col + 1) * kich_Thuoc_Moi_O_Vuong, (row + 1) * kich_Thuoc_Moi_O_Vuong), \n",
    "                      color, \n",
    "                      -1 #thinkness = -1 là đổ màu bên trong\n",
    "                      )\n"
   ]
  },
  {
   "cell_type": "markdown",
   "metadata": {},
   "source": [
    "Hiển thi"
   ]
  },
  {
   "cell_type": "code",
   "execution_count": null,
   "metadata": {},
   "outputs": [],
   "source": [
    "# Hiển thị bàn cờ\n",
    "cv2.imshow(\"Chess Board\", board_img)\n",
    "cv2.waitKey(0)\n",
    "cv2.destroyAllWindows()"
   ]
  }
 ],
 "metadata": {
  "kernelspec": {
   "display_name": "Python 3",
   "language": "python",
   "name": "python3"
  },
  "language_info": {
   "codemirror_mode": {
    "name": "ipython",
    "version": 3
   },
   "file_extension": ".py",
   "mimetype": "text/x-python",
   "name": "python",
   "nbconvert_exporter": "python",
   "pygments_lexer": "ipython3",
   "version": "3.12.0"
  }
 },
 "nbformat": 4,
 "nbformat_minor": 2
}
