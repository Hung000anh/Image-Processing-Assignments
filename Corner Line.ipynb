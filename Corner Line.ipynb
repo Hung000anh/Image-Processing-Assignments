{
 "cells": [
  {
   "cell_type": "code",
   "execution_count": 2,
   "metadata": {},
   "outputs": [],
   "source": [
    "import cv2\n",
    "import numpy as np"
   ]
  },
  {
   "cell_type": "code",
   "execution_count": 3,
   "metadata": {},
   "outputs": [],
   "source": [
    "# Đọc ảnh\n",
    "img = cv2.imread('../XuLyAnhP1/Img/hinhanh.jpg')\n",
    "resized_img = cv2.resize(img, (320, 500))\n",
    "# Đảo ngược màu sắc (tính toán phần bù của mỗi pixel)\n",
    "inverted_img = 255 - resized_img\n",
    "\n",
    "# Hiển thị ảnh gốc và ảnh đã đảo màu\n",
    "cv2.imshow('Anh goc', resized_img)\n",
    "cv2.imshow('Anh dao mau', inverted_img)\n",
    "\n",
    "# Chờ phím bất kỳ để đóng cửa sổ\n",
    "cv2.waitKey(0)\n",
    "cv2.destroyAllWindows()"
   ]
  }
 ],
 "metadata": {
  "kernelspec": {
   "display_name": "Python 3",
   "language": "python",
   "name": "python3"
  },
  "language_info": {
   "codemirror_mode": {
    "name": "ipython",
    "version": 3
   },
   "file_extension": ".py",
   "mimetype": "text/x-python",
   "name": "python",
   "nbconvert_exporter": "python",
   "pygments_lexer": "ipython3",
   "version": "3.12.0"
  }
 },
 "nbformat": 4,
 "nbformat_minor": 4
}
