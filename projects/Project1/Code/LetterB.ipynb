{
 "cells": [
  {
   "cell_type": "markdown",
   "metadata": {},
   "source": [
    "Thư viện sử dụng"
   ]
  },
  {
   "cell_type": "code",
   "execution_count": 58,
   "metadata": {},
   "outputs": [],
   "source": [
    "import numpy as np\n",
    "import matplotlib.pyplot as plt"
   ]
  },
  {
   "cell_type": "markdown",
   "metadata": {},
   "source": [
    "Đổ màu"
   ]
  },
  {
   "cell_type": "code",
   "execution_count": 57,
   "metadata": {},
   "outputs": [],
   "source": [
    "def create_letter_B():\n",
    "    # Tạo mảng 256x256 với giá trị 255 (màu trắng)\n",
    "    anh_moi = np.ones((256, 256)) * 255\n",
    "\n",
    "    # Tạo thân của chữ \"I\"\n",
    "    anh_moi[40:210, 50:70] = 0\n",
    "\n",
    "    #tạo chữ \"E\"\n",
    "    anh_moi[40:60, 70:150] = 0\n",
    "    anh_moi[115:135, 70:150] = 0\n",
    "    anh_moi[190:210, 70:150] = 0\n",
    "\n",
    "    #tạo chứ \"B\"\n",
    "    anh_moi[60:115, 150:170] = 0\n",
    "    anh_moi[134:190, 150:170] = 0\n",
    "    return anh_moi"
   ]
  },
  {
   "cell_type": "markdown",
   "metadata": {},
   "source": [
    "Hiển thị ảnh kết quả"
   ]
  },
  {
   "cell_type": "code",
   "execution_count": 56,
   "metadata": {},
   "outputs": [
    {
     "data": {
      "image/png": "[encoded data removed]",
      "text/plain": [
       "<Figure size 640x480 with 1 Axes>"
      ]
     },
     "metadata": {},
     "output_type": "display_data"
    }
   ],
   "source": [
    "plt.imshow(create_letter_B(), cmap='gray')\n",
    "plt.show()"
   ]
  }
 ],
 "metadata": {
  "kernelspec": {
   "display_name": "Python 3",
   "language": "python",
   "name": "python3"
  },
  "language_info": {
   "codemirror_mode": {
    "name": "ipython",
    "version": 3
   },
   "file_extension": ".py",
   "mimetype": "text/x-python",
   "name": "python",
   "nbconvert_exporter": "python",
   "pygments_lexer": "ipython3",
   "version": "3.12.0"
  }
 },
 "nbformat": 4,
 "nbformat_minor": 2
}
