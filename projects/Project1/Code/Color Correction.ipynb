{
 "cells": [
  {
   "cell_type": "code",
   "execution_count": 2,
   "metadata": {},
   "outputs": [],
   "source": [
    "import cv2\n",
    "import numpy as np\n",
    "\n",
    "# Đọc ảnh\n",
    "img = cv2.imread('../XuLyAnhP1/Img/hinhanh.jpg')\n",
    "resized_img = cv2.resize(img, (320, 500))\n",
    "\n",
    "# Kích thước của đường kẻ (có thể điều chỉnh)\n",
    "line_length = 100  # Độ dài của đường kẻ\n",
    "thickness = 5      # Độ dày của đường kẻ\n",
    "\n",
    "# Lấy kích thước của hình ảnh\n",
    "height, width, _ = img.shape\n",
    "\n",
    "# Xác định điểm bắt đầu và điểm kết thúc của đường kẻ\n",
    "start_point = (0, 100)  # Góc trên bên trái\n",
    "end_point = (line_length, 0)  # Đoạn đường kẻ ngang từ góc trái\n",
    "\n",
    "# Vẽ đường kẻ đen trên hình ảnh\n",
    "cv2.line(resized_img, start_point, end_point, (0, 0, 0), thickness)\n",
    "\n",
    "# Hiển thị kết quả\n",
    "cv2.imshow('Anh sau khi chinh sua', resized_img)\n",
    "\n",
    "\n",
    "#Cho phim bat ky de dong cua so\n",
    "cv2.waitKey(0)\n",
    "cv2.destroyAllWindows()\n"
   ]
  },
  {
   "cell_type": "code",
   "execution_count": null,
   "metadata": {},
   "outputs": [],
   "source": []
  }
 ],
 "metadata": {
  "kernelspec": {
   "display_name": "Python 3",
   "language": "python",
   "name": "python3"
  },
  "language_info": {
   "codemirror_mode": {
    "name": "ipython",
    "version": 3
   },
   "file_extension": ".py",
   "mimetype": "text/x-python",
   "name": "python",
   "nbconvert_exporter": "python",
   "pygments_lexer": "ipython3",
   "version": "3.12.0"
  }
 },
 "nbformat": 4,
 "nbformat_minor": 4
}
